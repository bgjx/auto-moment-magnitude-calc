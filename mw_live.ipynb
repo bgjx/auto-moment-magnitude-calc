{
 "cells": [
  {
   "cell_type": "markdown",
   "id": "efd158fe-5084-4f5b-8781-de12c23247ca",
   "metadata": {},
   "source": [
    "## Live demo on using the Mw Automatic Calculator"
   ]
  },
  {
   "cell_type": "code",
   "execution_count": null,
   "id": "44dcedfc-6361-42da-a172-8da708c55e35",
   "metadata": {},
   "outputs": [],
   "source": []
  }
 ],
 "metadata": {
  "kernelspec": {
   "display_name": "Python 3 (ipykernel)",
   "language": "python",
   "name": "python3"
  },
  "language_info": {
   "codemirror_mode": {
    "name": "ipython",
    "version": 3
   },
   "file_extension": ".py",
   "mimetype": "text/x-python",
   "name": "python",
   "nbconvert_exporter": "python",
   "pygments_lexer": "ipython3",
   "version": "3.12.3"
  }
 },
 "nbformat": 4,
 "nbformat_minor": 5
}
